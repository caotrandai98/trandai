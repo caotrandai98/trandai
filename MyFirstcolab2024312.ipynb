{
  "nbformat": 4,
  "nbformat_minor": 0,
  "metadata": {
    "colab": {
      "provenance": [],
      "authorship_tag": "ABX9TyNAdQoXWjsQzr4fPGOGsO9I",
      "include_colab_link": true
    },
    "kernelspec": {
      "name": "python3",
      "display_name": "Python 3"
    },
    "language_info": {
      "name": "python"
    }
  },
  "cells": [
    {
      "cell_type": "markdown",
      "metadata": {
        "id": "view-in-github",
        "colab_type": "text"
      },
      "source": [
        "<a href=\"https://colab.research.google.com/github/caotrandai98/trandai/blob/main/MyFirstcolab2024312.ipynb\" target=\"_parent\"><img src=\"https://colab.research.google.com/assets/colab-badge.svg\" alt=\"Open In Colab\"/></a>"
      ]
    },
    {
      "cell_type": "code",
      "execution_count": 3,
      "metadata": {
        "colab": {
          "base_uri": "https://localhost:8080/"
        },
        "id": "_nzF0boSrPfj",
        "outputId": "7cb12b69-4e96-469c-a684-36f375abadf4"
      },
      "outputs": [
        {
          "output_type": "stream",
          "name": "stdout",
          "text": [
            "hello world\n",
            "hello taiwan\n"
          ]
        }
      ],
      "source": [
        "print('hello world')\n",
        "print('hello taiwan')"
      ]
    },
    {
      "cell_type": "code",
      "source": [
        "print('hello, i love taiwan')"
      ],
      "metadata": {
        "colab": {
          "base_uri": "https://localhost:8080/"
        },
        "id": "ger81KLZt7bs",
        "outputId": "221538ad-9ee2-47d6-f7b7-9c45104e7aeb"
      },
      "execution_count": 4,
      "outputs": [
        {
          "output_type": "stream",
          "name": "stdout",
          "text": [
            "hello, i love taiwan\n"
          ]
        }
      ]
    }
  ]
}